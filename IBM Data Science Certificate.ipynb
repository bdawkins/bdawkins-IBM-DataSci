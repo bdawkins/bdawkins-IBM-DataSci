{
    "cells": [
        {
            "cell_type": "markdown",
            "metadata": {
                "collapsed": true
            },
            "source": "# My Jupyter Notebook on IBM Waston Studio"
        },
        {
            "cell_type": "markdown",
            "metadata": {},
            "source": "**Bria Dawkins**"
        },
        {
            "cell_type": "markdown",
            "metadata": {},
            "source": "Current role: Data Scientist (Graduate)"
        },
        {
            "cell_type": "markdown",
            "metadata": {},
            "source": "*Data science is a field of interest for me because I want to research and work on reducing algorithmic bias and model risk in financial machine learning models. As industries diversify, it is really important to ensure that machine learning models are not reinforcing negative stereotypes and executing as such.*"
        },
        {
            "cell_type": "markdown",
            "metadata": {},
            "source": "### My code will print \"Hello, world!\""
        },
        {
            "cell_type": "code",
            "execution_count": 7,
            "metadata": {},
            "outputs": [
                {
                    "name": "stdout",
                    "output_type": "stream",
                    "text": "Hello, world!\n"
                }
            ],
            "source": "print(\"Hello, world!\")"
        },
        {
            "cell_type": "markdown",
            "metadata": {},
            "source": "**Flower rankings**\n***\n1) Peonies\n\n2) Tulips\n\n3) Roses\n\n4) Baby's Breath\n\n5) Hydrangeas\n\n~~6) Pothos~~\n\n\n"
        }
    ],
    "metadata": {
        "kernelspec": {
            "display_name": "Python 3.9",
            "language": "python",
            "name": "python3"
        },
        "language_info": {
            "codemirror_mode": {
                "name": "ipython",
                "version": 3
            },
            "file_extension": ".py",
            "mimetype": "text/x-python",
            "name": "python",
            "nbconvert_exporter": "python",
            "pygments_lexer": "ipython3",
            "version": "3.9.12"
        }
    },
    "nbformat": 4,
    "nbformat_minor": 1
}